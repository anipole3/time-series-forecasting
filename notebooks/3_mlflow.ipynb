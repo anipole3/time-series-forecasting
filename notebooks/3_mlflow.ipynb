{
 "cells": [
  {
   "cell_type": "markdown",
   "id": "d1b923a0",
   "metadata": {},
   "source": [
    "# In this notebook, I log metrics of Neural Prophet model in which I try adding and removing weekly seasonality for each store product pair"
   ]
  },
  {
   "cell_type": "code",
   "execution_count": null,
   "id": "eaa91e13",
   "metadata": {},
   "outputs": [],
   "source": [
    "%cd .."
   ]
  },
  {
   "cell_type": "code",
   "execution_count": null,
   "id": "2b9c1919",
   "metadata": {},
   "outputs": [],
   "source": [
    "import pandas as pd\n",
    "import numpy as np \n",
    "import matplotlib.pyplot as plt\n",
    "import mlflow\n",
    "import pickle\n",
    "import sklearn.ensemble\n",
    "from sklearn.datasets import load_diabetes\n",
    "from neuralprophet import NeuralProphet\n",
    "from sklearn.metrics import mean_absolute_error, mean_absolute_percentage_error"
   ]
  },
  {
   "cell_type": "markdown",
   "id": "8aeca015",
   "metadata": {},
   "source": [
    "## Prepare Data fror training"
   ]
  },
  {
   "cell_type": "code",
   "execution_count": null,
   "id": "14e8d40e",
   "metadata": {},
   "outputs": [],
   "source": [
    "df_train = pd.read_csv('./data/train.csv', low_memory=False)\n",
    "df_test = pd.read_csv('./data/test.csv', low_memory=False)\n",
    "\n",
    "# Transform Date column into datetime format\n",
    "df_train['ds'] = pd.to_datetime(df_train['Date'])\n",
    "df_test['ds'] = pd.to_datetime(df_test['Date'])\n",
    "\n",
    "df_train.rename(columns={'number_sold':'y'}, inplace=True)\n",
    "df_test.rename(columns={'number_sold':'y'}, inplace=True)\n",
    "df_train['ID'] = df_train['store'].astype('str') + '_' + df_train['product'].astype('str')\n",
    "df_test['ID'] = df_test['store'].astype('str') + '_' + df_test['product'].astype('str')"
   ]
  },
  {
   "cell_type": "code",
   "execution_count": null,
   "id": "0e0aa850",
   "metadata": {},
   "outputs": [],
   "source": [
    "df = df_train.drop_duplicates(subset=['ID', 'ds'])\n",
    "df['ds'] = df['ds'].dt.date"
   ]
  },
  {
   "cell_type": "markdown",
   "id": "5c3aad09",
   "metadata": {},
   "source": [
    "## Train and log results"
   ]
  },
  {
   "cell_type": "code",
   "execution_count": null,
   "id": "c436467d",
   "metadata": {},
   "outputs": [],
   "source": [
    "mlflow.set_experiment(\"neuralprophet_forecasting\")\n",
    "with mlflow.start_run(run_name=\"local_weekly_seasonality\"):\n",
    "    mlflow.log_param(\"trend_global_local\", 'local')\n",
    "    mlflow.log_param(\"season_global_local\", 'local')\n",
    "    mlflow.log_param(\"weekly_seasonality_glocal_mode\", 'local')\n",
    "    mlflow.log_param(\"daily_seasonality\",False)\n",
    "    mlflow.log_param(\"n_lags\", 375)\n",
    "    mlflow.log_param(\"n_forecasts\", 365)\n",
    "    mlflow.log_param(\"epochs\",20)\n",
    "    \n",
    "\n",
    "    # Log a model\n",
    "\n",
    "    model = NeuralProphet(\n",
    "        trend_global_local = 'local',\n",
    "        season_global_local= 'local',\n",
    "        daily_seasonality=False,\n",
    "        weekly_seasonality_glocal_mode='local',\n",
    "        n_lags= 375,\n",
    "        n_forecasts=365,\n",
    "        epochs=20\n",
    "    )\n",
    "\n",
    "    metrics = model.fit(df[['ID', 'ds', 'y']], freq='D')\n",
    "    df_pred = model.predict(model.make_future_dataframe(df_train[['ds', 'ID', 'y']]))\n",
    "    cols = [x for x in df_pred.columns if 'hat' in x]\n",
    "    df_pred['y_pred'] = df_pred[cols].sum(axis=1)\n",
    "\n",
    "    df_comb = df_pred.merge(\n",
    "        df_test, \n",
    "        on=['ds', 'ID'], \n",
    "        suffixes=['_preds', '_actual']\n",
    "        )\n",
    "    \n",
    "    mape = mean_absolute_percentage_error(df_comb['y_actual'], df_comb['y_pred'])\n",
    "    with open(\"neural_prophet_model.pkl\", \"wb\") as f:\n",
    "        pickle.dump(model, f)\n",
    "\n",
    "    mlflow.log_artifact(\"neural_prophet_model.pkl\")\n",
    "    mlflow.log_metric(\"mape\", mape)\n",
    "    \n"
   ]
  }
 ],
 "metadata": {
  "kernelspec": {
   "display_name": "basic",
   "language": "python",
   "name": "python3"
  },
  "language_info": {
   "codemirror_mode": {
    "name": "ipython",
    "version": 3
   },
   "file_extension": ".py",
   "mimetype": "text/x-python",
   "name": "python",
   "nbconvert_exporter": "python",
   "pygments_lexer": "ipython3",
   "version": "3.12.9"
  }
 },
 "nbformat": 4,
 "nbformat_minor": 5
}
