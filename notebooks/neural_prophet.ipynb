{
 "cells": [
  {
   "cell_type": "code",
   "execution_count": null,
   "id": "39e84b07",
   "metadata": {},
   "outputs": [],
   "source": [
    "%cd .."
   ]
  },
  {
   "cell_type": "code",
   "execution_count": null,
   "id": "3697fd83",
   "metadata": {},
   "outputs": [],
   "source": [
    "import pandas as pd\n",
    "import numpy as np \n",
    "import matplotlib.pyplot as plt\n",
    "import seaborn as sns \n",
    "from sklearn.metrics import mean_absolute_error, mean_absolute_percentage_error, root_mean_squared_error\n",
    "from statsmodels.tsa.stattools import adfuller,pacf,acf\n",
    "from statsmodels.graphics.tsaplots import plot_pacf,plot_acf\n",
    "from statsmodels.tsa.seasonal import seasonal_decompose"
   ]
  },
  {
   "cell_type": "code",
   "execution_count": null,
   "id": "dc12b238",
   "metadata": {},
   "outputs": [],
   "source": [
    "df_train = pd.read_csv('./data/train.csv', low_memory=False)\n",
    "df_test = pd.read_csv('./data/test.csv', low_memory=False)\n",
    "\n",
    "# Transform Date column into datetime format\n",
    "df_train['ds'] = pd.to_datetime(df_train['Date'])\n",
    "df_test['ds'] = pd.to_datetime(df_test['Date'])"
   ]
  },
  {
   "cell_type": "code",
   "execution_count": null,
   "id": "00a4363e",
   "metadata": {},
   "outputs": [],
   "source": [
    "df_train.rename(columns={'number_sold':'y'}, inplace=True)\n",
    "df_test.rename(columns={'number_sold':'y'}, inplace=True)"
   ]
  },
  {
   "cell_type": "code",
   "execution_count": null,
   "id": "ed8ddeac",
   "metadata": {},
   "outputs": [],
   "source": [
    "df_train['ID'] = df_train['store'].astype('str') + '_' + df_train['product'].astype('str')"
   ]
  },
  {
   "cell_type": "code",
   "execution_count": null,
   "id": "695e80ac",
   "metadata": {},
   "outputs": [],
   "source": []
  },
  {
   "cell_type": "code",
   "execution_count": null,
   "id": "3c07bd75",
   "metadata": {},
   "outputs": [],
   "source": [
    "df = df_train.drop_duplicates(subset=['ID', 'ds'])"
   ]
  },
  {
   "cell_type": "code",
   "execution_count": null,
   "id": "a8485ad7",
   "metadata": {},
   "outputs": [],
   "source": [
    "df['ds'] = df['ds'].dt.date"
   ]
  },
  {
   "cell_type": "code",
   "execution_count": null,
   "id": "d05b5412",
   "metadata": {},
   "outputs": [],
   "source": [
    "from neuralprophet import NeuralProphet\n",
    "\n",
    "# Create model\n",
    "model = NeuralProphet(\n",
    "    trend_global_local = 'local',\n",
    "    season_global_local= 'local',\n",
    "    daily_seasonality=False,\n",
    "    n_lags= 35,\n",
    "    n_forecasts=35,\n",
    "    epochs=10\n",
    ")\n"
   ]
  },
  {
   "cell_type": "code",
   "execution_count": null,
   "id": "6aad16d1",
   "metadata": {},
   "outputs": [],
   "source": [
    "df['ds'] = pd.to_datetime(df['ds'])"
   ]
  },
  {
   "cell_type": "code",
   "execution_count": null,
   "id": "18176b7f",
   "metadata": {},
   "outputs": [],
   "source": [
    "df[['ID', 'ds', 'y']].dtypes"
   ]
  },
  {
   "cell_type": "code",
   "execution_count": null,
   "id": "6b846caf",
   "metadata": {},
   "outputs": [],
   "source": [
    "# Fit model\n",
    "metrics = model.fit(df[['ID', 'ds', 'y']], freq='D')"
   ]
  },
  {
   "cell_type": "code",
   "execution_count": null,
   "id": "209f2470",
   "metadata": {},
   "outputs": [],
   "source": []
  },
  {
   "cell_type": "code",
   "execution_count": null,
   "id": "68f13f63",
   "metadata": {},
   "outputs": [],
   "source": []
  }
 ],
 "metadata": {
  "kernelspec": {
   "display_name": "basic",
   "language": "python",
   "name": "python3"
  },
  "language_info": {
   "codemirror_mode": {
    "name": "ipython",
    "version": 3
   },
   "file_extension": ".py",
   "mimetype": "text/x-python",
   "name": "python",
   "nbconvert_exporter": "python",
   "pygments_lexer": "ipython3",
   "version": "3.12.9"
  }
 },
 "nbformat": 4,
 "nbformat_minor": 5
}
