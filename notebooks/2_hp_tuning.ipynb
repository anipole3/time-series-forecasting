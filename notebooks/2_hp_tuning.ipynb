{
 "cells": [
  {
   "cell_type": "code",
   "execution_count": null,
   "id": "c9c6b70d",
   "metadata": {},
   "outputs": [],
   "source": [
    "%cd .."
   ]
  },
  {
   "cell_type": "code",
   "execution_count": null,
   "id": "307e5df1",
   "metadata": {},
   "outputs": [],
   "source": [
    "import pandas as pd\n",
    "import numpy as np \n",
    "import matplotlib.pyplot as plt\n",
    "import seaborn as sns \n",
    "from sklearn.metrics import (\n",
    "    mean_absolute_error, \n",
    "    mean_absolute_percentage_error, \n",
    "    root_mean_squared_error\n",
    ")\n",
    "from hyperopt import fmin, tpe, hp, Trials, STATUS_OK"
   ]
  },
  {
   "cell_type": "code",
   "execution_count": null,
   "id": "9210c4b5",
   "metadata": {},
   "outputs": [],
   "source": [
    "df = pd.read_csv('data/hp_tunning_df.csv', low_memory=False)\n",
    "df['Date'] = pd.to_datetime(df['Date'])"
   ]
  },
  {
   "cell_type": "code",
   "execution_count": null,
   "id": "bafdf112",
   "metadata": {},
   "outputs": [],
   "source": [
    "cat_features = ['store', 'product']\n",
    "features = ['day_of_month', 'day_of_week', 'month', 'y_lag_1', 'y_lag_2', 'y_lag_3', 'y_lag_4', 'y_lag_5', 'y_lag_6'] + cat_features\n",
    "df[cat_features] = df[cat_features].astype('category')"
   ]
  },
  {
   "cell_type": "markdown",
   "id": "16ed84ae",
   "metadata": {},
   "source": [
    "## Prepare CV Folds (use 1 year of data in each valid test) and use 3 folds"
   ]
  },
  {
   "cell_type": "code",
   "execution_count": null,
   "id": "80928fc1",
   "metadata": {},
   "outputs": [],
   "source": [
    "from src.hp_tuning_helpers import *\n",
    "from src.lgb_model_train import *"
   ]
  },
  {
   "cell_type": "code",
   "execution_count": null,
   "id": "650279dc",
   "metadata": {},
   "outputs": [],
   "source": [
    "folds = create_folds(df, 3)"
   ]
  },
  {
   "cell_type": "code",
   "execution_count": null,
   "id": "977f6be5",
   "metadata": {},
   "outputs": [],
   "source": [
    "def objective(params):\n",
    "    params['num_leaves'] = int(params['num_leaves'])\n",
    "    params['max_depth'] = int(params['max_depth'])\n",
    "    params['min_child_samples'] = int(params['min_child_samples'])\n",
    "    boosting_type = params.pop('boosting_type')\n",
    "    params['boosting_type'] = boosting_type\n",
    "    num_boost_round = int(params.pop('num_boost_round'))\n",
    "    model_class = LGBModelTrainer(params, 'month_deviation', features, num_boost_round)\n",
    "    avg_mae = cross_val_metrics(model_class, folds, cv=3)\n",
    "    return {'loss':avg_mae, 'status':STATUS_OK}\n"
   ]
  },
  {
   "cell_type": "code",
   "execution_count": null,
   "id": "5da44e14",
   "metadata": {},
   "outputs": [],
   "source": [
    "space = {\n",
    "    'objective': 'regression',\n",
    "    'metric': 'rmse',\n",
    "    'boosting_type': hp.choice('boosting_type', ['gbdt', 'dart', 'goss']),\n",
    "    'learning_rate': hp.loguniform('learning_rate', 0.01, 1),\n",
    "    'num_leaves': hp.quniform('num_leaves', 20, 50, 1),\n",
    "    'max_depth': hp.quniform('max_depth', 3, 50, 1),\n",
    "    'min_child_samples': hp.quniform('min_child_samples', 3, 50, 1),\n",
    "    # 'subsample': hp.uniform('subsample', 0.5, 1),\n",
    "    # 'colsample_bytree': hp.uniform('colsample_bytree', 0.5, 1),\n",
    "    # 'reg_alpha': hp.uniform('reg_alpha', 0.0, 1),\n",
    "    # 'reg_lambda': hp.uniform('reg_lambda', 0.0, 1),\n",
    "    \"num_boost_round\": hp.quniform(\"num_boost_round\", 3000, 20000, 1000),\n",
    "    'seed': \"42\",\n",
    "}"
   ]
  },
  {
   "cell_type": "code",
   "execution_count": null,
   "id": "a1eb1104",
   "metadata": {},
   "outputs": [],
   "source": [
    "trials = Trials()\n",
    "best = fmin(\n",
    "    fn=objective,\n",
    "    space=space,\n",
    "    algo = tpe.suggest,\n",
    "    max_evals=5,\n",
    "    trials=trials\n",
    ")"
   ]
  },
  {
   "cell_type": "code",
   "execution_count": null,
   "id": "4ee31ea8",
   "metadata": {},
   "outputs": [],
   "source": [
    "best"
   ]
  },
  {
   "cell_type": "code",
   "execution_count": null,
   "id": "3876263c",
   "metadata": {},
   "outputs": [],
   "source": []
  },
  {
   "cell_type": "markdown",
   "id": "a9786379",
   "metadata": {},
   "source": [
    "# Manual GridSearch"
   ]
  },
  {
   "cell_type": "code",
   "execution_count": null,
   "id": "986d1b13",
   "metadata": {},
   "outputs": [],
   "source": [
    "from itertools import product\n",
    "import numpy as np\n",
    "\n",
    "param_grid = {\n",
    "    'boosting_type': ['gbdt', 'dart', 'goss'],\n",
    "    'learning_rate': np.linspace(0.01, 1.0, 21),\n",
    "    'num_leaves': [x for x in range(20, 50)],\n",
    "    'max_depth': [x for x in range(3, 50)],\n",
    "    'min_child_samples': [x for x in range(3, 50)],\n",
    "    'subsample': np.linspace(0.5, 1.0, 11),\n",
    "    'colsample_bytree': np.linspace(0.5, 1.0, 11),\n",
    "    \"num_boost_round\": [x for x in range(3000, 21000, 1000)],\n",
    "    # 'reg_alpha': np.linspace(0.1, 1.0, 10),\n",
    "    # 'reg_lambda': np.linspace(0.1, 1.0, 10),\n",
    "}\n",
    "\n",
    "\n",
    "# Generate combinations of parameters\n",
    "param_combinations = list(product(\n",
    "    param_grid['boosting_type'],\n",
    "    param_grid['learning_rate'],\n",
    "    param_grid['num_leaves'],\n",
    "    param_grid['max_depth'],\n",
    "    param_grid['min_child_samples'],\n",
    "    param_grid['num_boost_round'],\n",
    "    # param_grid['reg_alpha'],\n",
    "    # param_grid['reg_lambda']\n",
    "))\n"
   ]
  },
  {
   "cell_type": "code",
   "execution_count": null,
   "id": "b8dc6f62",
   "metadata": {},
   "outputs": [],
   "source": [
    "import lightgbm\n",
    "\n",
    "best_mae = float(\"inf\")\n",
    "best_params = None\n",
    "\n",
    "# Loop over all combinations\n",
    "for bt, lr, nl, md, ms, nbr in param_combinations[:10]:\n",
    "    params = {\n",
    "        'objective': 'regression',\n",
    "        'metric': 'rmse',\n",
    "        'boosting_type':bt,\n",
    "        'learning_rate': lr,\n",
    "        'num_leaves': nl,\n",
    "        'max_depth': md,\n",
    "        'min_child_samples':ms,\n",
    "        # 'subsample': ss,\n",
    "        # 'colsample_bytree': cb, \n",
    "        # 'reg_alpha':ra,\n",
    "        # 'reg_lambda':rl,\n",
    "        'verbosity': -1,\n",
    "        'seed': 42\n",
    "    }\n",
    "    num_boost_round = nbr\n",
    "    \n",
    "\n",
    "    model_class = LGBModelTrainer(params, 'month_deviation', features, num_boost_round)\n",
    "    avg_mae = cross_val_metrics(model_class, folds, cv=3)\n",
    "\n",
    "    if avg_mae < best_mae:\n",
    "        best_mae = avg_mae\n",
    "        best_params = params\n",
    "        best_num_boost_round = num_boost_round\n",
    "\n",
    "print(\"\\nBest MAE:\", best_mae)\n",
    "print(\"Best Params:\", best_params)"
   ]
  },
  {
   "cell_type": "code",
   "execution_count": null,
   "id": "cd94436e",
   "metadata": {},
   "outputs": [],
   "source": [
    "best_params"
   ]
  },
  {
   "cell_type": "code",
   "execution_count": null,
   "id": "04c44c3c",
   "metadata": {},
   "outputs": [],
   "source": [
    "model_class = LGBModelTrainer(best_params, 'month_deviation', features, best_num_boost_round)"
   ]
  },
  {
   "cell_type": "code",
   "execution_count": null,
   "id": "6d33e6e3",
   "metadata": {},
   "outputs": [],
   "source": [
    "model = model_class.train_model(folds[0][0])"
   ]
  },
  {
   "cell_type": "code",
   "execution_count": null,
   "id": "537d9daf",
   "metadata": {},
   "outputs": [],
   "source": [
    "data = folds[0][0].copy()\n",
    "data['pred'] = model.predict(data[model_class.features])"
   ]
  },
  {
   "cell_type": "code",
   "execution_count": null,
   "id": "42241216",
   "metadata": {},
   "outputs": [],
   "source": [
    "mean_absolute_error(data[model_class.target], data['pred'])"
   ]
  }
 ],
 "metadata": {
  "kernelspec": {
   "display_name": "basic",
   "language": "python",
   "name": "python3"
  },
  "language_info": {
   "codemirror_mode": {
    "name": "ipython",
    "version": 3
   },
   "file_extension": ".py",
   "mimetype": "text/x-python",
   "name": "python",
   "nbconvert_exporter": "python",
   "pygments_lexer": "ipython3",
   "version": "3.12.9"
  }
 },
 "nbformat": 4,
 "nbformat_minor": 5
}
